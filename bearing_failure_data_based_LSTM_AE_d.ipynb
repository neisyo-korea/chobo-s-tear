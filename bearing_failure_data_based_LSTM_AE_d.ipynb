{
  "nbformat": 4,
  "nbformat_minor": 0,
  "metadata": {
    "colab": {
      "name": "bearing failure data based LSTM-AE d.ipynb",
      "provenance": [],
      "authorship_tag": "ABX9TyNfmqG8IyLilHqf0FGPcRoa",
      "include_colab_link": true
    },
    "kernelspec": {
      "name": "python3",
      "display_name": "Python 3"
    },
    "language_info": {
      "name": "python"
    }
  },
  "cells": [
    {
      "cell_type": "markdown",
      "metadata": {
        "id": "view-in-github",
        "colab_type": "text"
      },
      "source": [
        "<a href=\"https://colab.research.google.com/github/neisyo-korea/chobo-s-tear/blob/main/bearing_failure_data_based_LSTM_AE_d.ipynb\" target=\"_parent\"><img src=\"https://colab.research.google.com/assets/colab-badge.svg\" alt=\"Open In Colab\"/></a>"
      ]
    },
    {
      "cell_type": "code",
      "execution_count": 2,
      "metadata": {
        "id": "PNtU-YrkajrY"
      },
      "outputs": [],
      "source": [
        "# import libraries\n",
        "import os\n",
        "import pandas as pd\n",
        "import numpy as np\n",
        "from sklearn.preprocessing import MinMaxScaler\n",
        "from sklearn.preprocessing import Normalizer\n",
        "import seaborn as sns\n",
        "sns.set(color_codes=True)\n",
        "import matplotlib.pyplot as plt\n",
        "%matplotlib inline\n",
        "\n",
        "\n",
        "from numpy.random import seed\n",
        "import tensorflow as tf\n",
        "from tensorflow.keras.layers import Input, Dropout, Dense, LSTM, TimeDistributed, RepeatVector\n",
        "from tensorflow.keras.models import Model\n",
        "from tensorflow.keras import regularizers"
      ]
    },
    {
      "cell_type": "code",
      "source": [
        "# set random seed\n",
        "seed(10)\n",
        "tf.random.set_seed(10)"
      ],
      "metadata": {
        "id": "JSE6IU-Ya5jT"
      },
      "execution_count": 3,
      "outputs": []
    },
    {
      "cell_type": "code",
      "source": [
        "# load data \n",
        "sensor_data = pd.read_csv('/content/train_data.csv', index_col=0)\n",
        "new_header = sensor_data.iloc[0] #grab the first row for the header\n",
        "sensor_data = sensor_data[1:] #take the data less the header row\n",
        "sensor_data.columns = new_header #set the header row as the df header\n",
        "sensor_data.head()"
      ],
      "metadata": {
        "colab": {
          "base_uri": "https://localhost:8080/",
          "height": 317
        },
        "id": "8GaivGNCbT5i",
        "outputId": "6f476f16-79a6-44fe-b7c3-e134277b5cc8"
      },
      "execution_count": 4,
      "outputs": [
        {
          "output_type": "execute_result",
          "data": {
            "text/plain": [
              "Time (min)           X1           X2           X3           X4           X5  \\\n",
              "0           0.248889998  3702.300049  4502.700195  9.416999817  26.99600029   \n",
              "1           0.249039993  3666.199951         4526  9.268199921  26.70999908   \n",
              "2           0.250340015  3673.300049  4501.299805  9.421199799  26.84199905   \n",
              "3            0.25108999  3657.800049  4497.799805  9.379199982  26.52799988   \n",
              "4           0.245629996         3698  4537.399902   9.37460041  26.73600006   \n",
              "\n",
              "Time (min)           X6           X7           X8           X9          X10  \\\n",
              "0           42.18299866  2705.199951  75.17299652  120.4000015  0.336109996   \n",
              "1           42.33200073       2705.5  74.41100311  120.4100037  0.336760014   \n",
              "2           42.36000061  2705.300049       75.125  120.4100037  0.337390006   \n",
              "3           41.98199844  2707.300049  73.99199677  120.3799973      0.33664   \n",
              "4           42.35400009  2705.300049  75.28299713  120.4199982  0.325210005   \n",
              "\n",
              "Time (min)  ...          X43          X44          X45          X46  \\\n",
              "0           ...  54.05899811  24.80400085  63.26900101  21.95000076   \n",
              "1           ...  53.78099823  24.79000092  62.17100143  22.23900032   \n",
              "2           ...  54.07500076  24.66900063  61.58499908  22.19099998   \n",
              "3           ...  54.11700058  24.59499931  61.56100082  21.95899963   \n",
              "4           ...  53.90599823  24.45100021  61.38800049  22.27099991   \n",
              "\n",
              "Time (min)          X47          X48          X49          X50          X51  \\\n",
              "0           40.18799973  39.46099854           47  47.59400177  41.38399887   \n",
              "1           40.10800171  43.70999908  46.12799835  47.50799942  41.65800095   \n",
              "2           40.02999878  39.47999954  44.12099838  47.61199951  41.72100067   \n",
              "3           40.12099838  32.84799957  45.85800171  47.45899963  40.83599854   \n",
              "4            39.5379982  36.68199921  45.75299835  47.45800018  41.72700119   \n",
              "\n",
              "Time (min)          X52  \n",
              "0           18.90500069  \n",
              "1           18.97599983  \n",
              "2           16.56200027  \n",
              "3           20.09399986  \n",
              "4           18.32999992  \n",
              "\n",
              "[5 rows x 52 columns]"
            ],
            "text/html": [
              "\n",
              "  <div id=\"df-c3134f5a-5708-40c5-95ac-8ce3e6fe700d\">\n",
              "    <div class=\"colab-df-container\">\n",
              "      <div>\n",
              "<style scoped>\n",
              "    .dataframe tbody tr th:only-of-type {\n",
              "        vertical-align: middle;\n",
              "    }\n",
              "\n",
              "    .dataframe tbody tr th {\n",
              "        vertical-align: top;\n",
              "    }\n",
              "\n",
              "    .dataframe thead th {\n",
              "        text-align: right;\n",
              "    }\n",
              "</style>\n",
              "<table border=\"1\" class=\"dataframe\">\n",
              "  <thead>\n",
              "    <tr style=\"text-align: right;\">\n",
              "      <th>Time (min)</th>\n",
              "      <th>X1</th>\n",
              "      <th>X2</th>\n",
              "      <th>X3</th>\n",
              "      <th>X4</th>\n",
              "      <th>X5</th>\n",
              "      <th>X6</th>\n",
              "      <th>X7</th>\n",
              "      <th>X8</th>\n",
              "      <th>X9</th>\n",
              "      <th>X10</th>\n",
              "      <th>...</th>\n",
              "      <th>X43</th>\n",
              "      <th>X44</th>\n",
              "      <th>X45</th>\n",
              "      <th>X46</th>\n",
              "      <th>X47</th>\n",
              "      <th>X48</th>\n",
              "      <th>X49</th>\n",
              "      <th>X50</th>\n",
              "      <th>X51</th>\n",
              "      <th>X52</th>\n",
              "    </tr>\n",
              "  </thead>\n",
              "  <tbody>\n",
              "    <tr>\n",
              "      <th>0</th>\n",
              "      <td>0.248889998</td>\n",
              "      <td>3702.300049</td>\n",
              "      <td>4502.700195</td>\n",
              "      <td>9.416999817</td>\n",
              "      <td>26.99600029</td>\n",
              "      <td>42.18299866</td>\n",
              "      <td>2705.199951</td>\n",
              "      <td>75.17299652</td>\n",
              "      <td>120.4000015</td>\n",
              "      <td>0.336109996</td>\n",
              "      <td>...</td>\n",
              "      <td>54.05899811</td>\n",
              "      <td>24.80400085</td>\n",
              "      <td>63.26900101</td>\n",
              "      <td>21.95000076</td>\n",
              "      <td>40.18799973</td>\n",
              "      <td>39.46099854</td>\n",
              "      <td>47</td>\n",
              "      <td>47.59400177</td>\n",
              "      <td>41.38399887</td>\n",
              "      <td>18.90500069</td>\n",
              "    </tr>\n",
              "    <tr>\n",
              "      <th>1</th>\n",
              "      <td>0.249039993</td>\n",
              "      <td>3666.199951</td>\n",
              "      <td>4526</td>\n",
              "      <td>9.268199921</td>\n",
              "      <td>26.70999908</td>\n",
              "      <td>42.33200073</td>\n",
              "      <td>2705.5</td>\n",
              "      <td>74.41100311</td>\n",
              "      <td>120.4100037</td>\n",
              "      <td>0.336760014</td>\n",
              "      <td>...</td>\n",
              "      <td>53.78099823</td>\n",
              "      <td>24.79000092</td>\n",
              "      <td>62.17100143</td>\n",
              "      <td>22.23900032</td>\n",
              "      <td>40.10800171</td>\n",
              "      <td>43.70999908</td>\n",
              "      <td>46.12799835</td>\n",
              "      <td>47.50799942</td>\n",
              "      <td>41.65800095</td>\n",
              "      <td>18.97599983</td>\n",
              "    </tr>\n",
              "    <tr>\n",
              "      <th>2</th>\n",
              "      <td>0.250340015</td>\n",
              "      <td>3673.300049</td>\n",
              "      <td>4501.299805</td>\n",
              "      <td>9.421199799</td>\n",
              "      <td>26.84199905</td>\n",
              "      <td>42.36000061</td>\n",
              "      <td>2705.300049</td>\n",
              "      <td>75.125</td>\n",
              "      <td>120.4100037</td>\n",
              "      <td>0.337390006</td>\n",
              "      <td>...</td>\n",
              "      <td>54.07500076</td>\n",
              "      <td>24.66900063</td>\n",
              "      <td>61.58499908</td>\n",
              "      <td>22.19099998</td>\n",
              "      <td>40.02999878</td>\n",
              "      <td>39.47999954</td>\n",
              "      <td>44.12099838</td>\n",
              "      <td>47.61199951</td>\n",
              "      <td>41.72100067</td>\n",
              "      <td>16.56200027</td>\n",
              "    </tr>\n",
              "    <tr>\n",
              "      <th>3</th>\n",
              "      <td>0.25108999</td>\n",
              "      <td>3657.800049</td>\n",
              "      <td>4497.799805</td>\n",
              "      <td>9.379199982</td>\n",
              "      <td>26.52799988</td>\n",
              "      <td>41.98199844</td>\n",
              "      <td>2707.300049</td>\n",
              "      <td>73.99199677</td>\n",
              "      <td>120.3799973</td>\n",
              "      <td>0.33664</td>\n",
              "      <td>...</td>\n",
              "      <td>54.11700058</td>\n",
              "      <td>24.59499931</td>\n",
              "      <td>61.56100082</td>\n",
              "      <td>21.95899963</td>\n",
              "      <td>40.12099838</td>\n",
              "      <td>32.84799957</td>\n",
              "      <td>45.85800171</td>\n",
              "      <td>47.45899963</td>\n",
              "      <td>40.83599854</td>\n",
              "      <td>20.09399986</td>\n",
              "    </tr>\n",
              "    <tr>\n",
              "      <th>4</th>\n",
              "      <td>0.245629996</td>\n",
              "      <td>3698</td>\n",
              "      <td>4537.399902</td>\n",
              "      <td>9.37460041</td>\n",
              "      <td>26.73600006</td>\n",
              "      <td>42.35400009</td>\n",
              "      <td>2705.300049</td>\n",
              "      <td>75.28299713</td>\n",
              "      <td>120.4199982</td>\n",
              "      <td>0.325210005</td>\n",
              "      <td>...</td>\n",
              "      <td>53.90599823</td>\n",
              "      <td>24.45100021</td>\n",
              "      <td>61.38800049</td>\n",
              "      <td>22.27099991</td>\n",
              "      <td>39.5379982</td>\n",
              "      <td>36.68199921</td>\n",
              "      <td>45.75299835</td>\n",
              "      <td>47.45800018</td>\n",
              "      <td>41.72700119</td>\n",
              "      <td>18.32999992</td>\n",
              "    </tr>\n",
              "  </tbody>\n",
              "</table>\n",
              "<p>5 rows × 52 columns</p>\n",
              "</div>\n",
              "      <button class=\"colab-df-convert\" onclick=\"convertToInteractive('df-c3134f5a-5708-40c5-95ac-8ce3e6fe700d')\"\n",
              "              title=\"Convert this dataframe to an interactive table.\"\n",
              "              style=\"display:none;\">\n",
              "        \n",
              "  <svg xmlns=\"http://www.w3.org/2000/svg\" height=\"24px\"viewBox=\"0 0 24 24\"\n",
              "       width=\"24px\">\n",
              "    <path d=\"M0 0h24v24H0V0z\" fill=\"none\"/>\n",
              "    <path d=\"M18.56 5.44l.94 2.06.94-2.06 2.06-.94-2.06-.94-.94-2.06-.94 2.06-2.06.94zm-11 1L8.5 8.5l.94-2.06 2.06-.94-2.06-.94L8.5 2.5l-.94 2.06-2.06.94zm10 10l.94 2.06.94-2.06 2.06-.94-2.06-.94-.94-2.06-.94 2.06-2.06.94z\"/><path d=\"M17.41 7.96l-1.37-1.37c-.4-.4-.92-.59-1.43-.59-.52 0-1.04.2-1.43.59L10.3 9.45l-7.72 7.72c-.78.78-.78 2.05 0 2.83L4 21.41c.39.39.9.59 1.41.59.51 0 1.02-.2 1.41-.59l7.78-7.78 2.81-2.81c.8-.78.8-2.07 0-2.86zM5.41 20L4 18.59l7.72-7.72 1.47 1.35L5.41 20z\"/>\n",
              "  </svg>\n",
              "      </button>\n",
              "      \n",
              "  <style>\n",
              "    .colab-df-container {\n",
              "      display:flex;\n",
              "      flex-wrap:wrap;\n",
              "      gap: 12px;\n",
              "    }\n",
              "\n",
              "    .colab-df-convert {\n",
              "      background-color: #E8F0FE;\n",
              "      border: none;\n",
              "      border-radius: 50%;\n",
              "      cursor: pointer;\n",
              "      display: none;\n",
              "      fill: #1967D2;\n",
              "      height: 32px;\n",
              "      padding: 0 0 0 0;\n",
              "      width: 32px;\n",
              "    }\n",
              "\n",
              "    .colab-df-convert:hover {\n",
              "      background-color: #E2EBFA;\n",
              "      box-shadow: 0px 1px 2px rgba(60, 64, 67, 0.3), 0px 1px 3px 1px rgba(60, 64, 67, 0.15);\n",
              "      fill: #174EA6;\n",
              "    }\n",
              "\n",
              "    [theme=dark] .colab-df-convert {\n",
              "      background-color: #3B4455;\n",
              "      fill: #D2E3FC;\n",
              "    }\n",
              "\n",
              "    [theme=dark] .colab-df-convert:hover {\n",
              "      background-color: #434B5C;\n",
              "      box-shadow: 0px 1px 3px 1px rgba(0, 0, 0, 0.15);\n",
              "      filter: drop-shadow(0px 1px 2px rgba(0, 0, 0, 0.3));\n",
              "      fill: #FFFFFF;\n",
              "    }\n",
              "  </style>\n",
              "\n",
              "      <script>\n",
              "        const buttonEl =\n",
              "          document.querySelector('#df-c3134f5a-5708-40c5-95ac-8ce3e6fe700d button.colab-df-convert');\n",
              "        buttonEl.style.display =\n",
              "          google.colab.kernel.accessAllowed ? 'block' : 'none';\n",
              "\n",
              "        async function convertToInteractive(key) {\n",
              "          const element = document.querySelector('#df-c3134f5a-5708-40c5-95ac-8ce3e6fe700d');\n",
              "          const dataTable =\n",
              "            await google.colab.kernel.invokeFunction('convertToInteractive',\n",
              "                                                     [key], {});\n",
              "          if (!dataTable) return;\n",
              "\n",
              "          const docLinkHtml = 'Like what you see? Visit the ' +\n",
              "            '<a target=\"_blank\" href=https://colab.research.google.com/notebooks/data_table.ipynb>data table notebook</a>'\n",
              "            + ' to learn more about interactive tables.';\n",
              "          element.innerHTML = '';\n",
              "          dataTable['output_type'] = 'display_data';\n",
              "          await google.colab.output.renderOutput(dataTable, element);\n",
              "          const docLink = document.createElement('div');\n",
              "          docLink.innerHTML = docLinkHtml;\n",
              "          element.appendChild(docLink);\n",
              "        }\n",
              "      </script>\n",
              "    </div>\n",
              "  </div>\n",
              "  "
            ]
          },
          "metadata": {},
          "execution_count": 4
        }
      ]
    },
    {
      "cell_type": "code",
      "source": [
        "#split data 80/20 with last 20% as the test set\n",
        "last_20percent = round(len(sensor_data) - len(sensor_data)*.2)\n",
        "train = sensor_data.iloc[ :last_20percent, :]\n",
        "test = sensor_data.iloc[last_20percent: ,:]\n",
        "print(\"Training dataset shape:\", train.shape)\n",
        "print(\"Test dataset shape:\", test.shape)"
      ],
      "metadata": {
        "colab": {
          "base_uri": "https://localhost:8080/"
        },
        "id": "Fv0Y24gZbUcW",
        "outputId": "3c2904de-f9a5-462e-97ec-a1b47090c74b"
      },
      "execution_count": 5,
      "outputs": [
        {
          "output_type": "stream",
          "name": "stdout",
          "text": [
            "Training dataset shape: (800, 52)\n",
            "Test dataset shape: (200, 52)\n"
          ]
        }
      ]
    },
    {
      "cell_type": "code",
      "source": [
        "# normalize the data\n",
        "scaler = MinMaxScaler()\n",
        "X_train = scaler.fit_transform(train)\n",
        "X_test = scaler.transform(test)\n",
        "scaler_filename = \"scaler_data\""
      ],
      "metadata": {
        "id": "Y89gTyF7dvuh"
      },
      "execution_count": 10,
      "outputs": []
    },
    {
      "cell_type": "code",
      "source": [
        "# reshape inputs for LSTM [samples, timesteps, features]\n",
        "X_train = X_train.reshape(X_train.shape[0], 1, X_train.shape[1])\n",
        "print(\"Training data shape:\", X_train.shape)\n",
        "X_test = X_test.reshape(X_test.shape[0], 1, X_test.shape[1])\n",
        "print(\"Test data shape:\", X_test.shape)"
      ],
      "metadata": {
        "colab": {
          "base_uri": "https://localhost:8080/"
        },
        "id": "Y47Xc6tjeB3S",
        "outputId": "2db45ada-cb1b-462d-bc64-c5ac8f2fca37"
      },
      "execution_count": 11,
      "outputs": [
        {
          "output_type": "stream",
          "name": "stdout",
          "text": [
            "Training data shape: (800, 1, 52)\n",
            "Test data shape: (200, 1, 52)\n"
          ]
        }
      ]
    },
    {
      "cell_type": "code",
      "source": [
        "# define the autoencoder network model\n",
        "def autoencoder_model(X):\n",
        "    inputs = Input(shape=(X.shape[1], X.shape[2]))\n",
        "    L1 = LSTM(16, activation='relu', return_sequences=True, \n",
        "              kernel_regularizer=regularizers.l2(0.00))(inputs)\n",
        "    L2 = LSTM(4, activation='relu', return_sequences=False)(L1)\n",
        "    L3 = RepeatVector(X.shape[1])(L2)\n",
        "    L4 = LSTM(4, activation='relu', return_sequences=True)(L3)\n",
        "    L5 = LSTM(16, activation='relu', return_sequences=True)(L4)\n",
        "    output = TimeDistributed(Dense(X.shape[2]))(L5)    \n",
        "    model = Model(inputs=inputs, outputs=output)\n",
        "    return model"
      ],
      "metadata": {
        "id": "gBuXL-5CeH9A"
      },
      "execution_count": 12,
      "outputs": []
    },
    {
      "cell_type": "code",
      "source": [
        "# create the autoencoder model\n",
        "model = autoencoder_model(X_train)\n",
        "model.compile(optimizer='adam', loss='mae')\n",
        "model.summary()"
      ],
      "metadata": {
        "colab": {
          "base_uri": "https://localhost:8080/"
        },
        "id": "68QmBnu0eVO0",
        "outputId": "708c36b6-6f9b-42b3-f7da-b31de2321b4c"
      },
      "execution_count": 13,
      "outputs": [
        {
          "output_type": "stream",
          "name": "stdout",
          "text": [
            "Model: \"model\"\n",
            "_________________________________________________________________\n",
            " Layer (type)                Output Shape              Param #   \n",
            "=================================================================\n",
            " input_1 (InputLayer)        [(None, 1, 52)]           0         \n",
            "                                                                 \n",
            " lstm (LSTM)                 (None, 1, 16)             4416      \n",
            "                                                                 \n",
            " lstm_1 (LSTM)               (None, 4)                 336       \n",
            "                                                                 \n",
            " repeat_vector (RepeatVector  (None, 1, 4)             0         \n",
            " )                                                               \n",
            "                                                                 \n",
            " lstm_2 (LSTM)               (None, 1, 4)              144       \n",
            "                                                                 \n",
            " lstm_3 (LSTM)               (None, 1, 16)             1344      \n",
            "                                                                 \n",
            " time_distributed (TimeDistr  (None, 1, 52)            884       \n",
            " ibuted)                                                         \n",
            "                                                                 \n",
            "=================================================================\n",
            "Total params: 7,124\n",
            "Trainable params: 7,124\n",
            "Non-trainable params: 0\n",
            "_________________________________________________________________\n"
          ]
        }
      ]
    },
    {
      "cell_type": "code",
      "source": [
        "# fit the model to the data\n",
        "nb_epochs = 100\n",
        "batch_size = 10\n",
        "history = model.fit(X_train, X_train, epochs=nb_epochs, batch_size=batch_size,\n",
        "                    validation_split=0.05).history"
      ],
      "metadata": {
        "colab": {
          "base_uri": "https://localhost:8080/"
        },
        "id": "R7y7B6L0ebm4",
        "outputId": "72091564-74e9-42dd-e7ba-1956c3a06b8f"
      },
      "execution_count": 14,
      "outputs": [
        {
          "output_type": "stream",
          "name": "stdout",
          "text": [
            "Epoch 1/100\n",
            "76/76 [==============================] - 6s 13ms/step - loss: 0.4540 - val_loss: 0.4114\n",
            "Epoch 2/100\n",
            "76/76 [==============================] - 0s 4ms/step - loss: 0.2930 - val_loss: 0.1740\n",
            "Epoch 3/100\n",
            "76/76 [==============================] - 0s 4ms/step - loss: 0.1400 - val_loss: 0.1582\n",
            "Epoch 4/100\n",
            "76/76 [==============================] - 0s 5ms/step - loss: 0.1364 - val_loss: 0.1580\n",
            "Epoch 5/100\n",
            "76/76 [==============================] - 0s 4ms/step - loss: 0.1362 - val_loss: 0.1572\n",
            "Epoch 6/100\n",
            "76/76 [==============================] - 0s 4ms/step - loss: 0.1360 - val_loss: 0.1583\n",
            "Epoch 7/100\n",
            "76/76 [==============================] - 0s 4ms/step - loss: 0.1360 - val_loss: 0.1578\n",
            "Epoch 8/100\n",
            "76/76 [==============================] - 0s 4ms/step - loss: 0.1360 - val_loss: 0.1582\n",
            "Epoch 9/100\n",
            "76/76 [==============================] - 0s 4ms/step - loss: 0.1359 - val_loss: 0.1566\n",
            "Epoch 10/100\n",
            "76/76 [==============================] - 0s 4ms/step - loss: 0.1359 - val_loss: 0.1576\n",
            "Epoch 11/100\n",
            "76/76 [==============================] - 0s 4ms/step - loss: 0.1359 - val_loss: 0.1571\n",
            "Epoch 12/100\n",
            "76/76 [==============================] - 0s 4ms/step - loss: 0.1359 - val_loss: 0.1579\n",
            "Epoch 13/100\n",
            "76/76 [==============================] - 0s 4ms/step - loss: 0.1358 - val_loss: 0.1573\n",
            "Epoch 14/100\n",
            "76/76 [==============================] - 0s 4ms/step - loss: 0.1358 - val_loss: 0.1572\n",
            "Epoch 15/100\n",
            "76/76 [==============================] - 0s 4ms/step - loss: 0.1358 - val_loss: 0.1573\n",
            "Epoch 16/100\n",
            "76/76 [==============================] - 0s 4ms/step - loss: 0.1358 - val_loss: 0.1583\n",
            "Epoch 17/100\n",
            "76/76 [==============================] - 0s 4ms/step - loss: 0.1358 - val_loss: 0.1568\n",
            "Epoch 18/100\n",
            "76/76 [==============================] - 0s 4ms/step - loss: 0.1358 - val_loss: 0.1567\n",
            "Epoch 19/100\n",
            "76/76 [==============================] - 0s 4ms/step - loss: 0.1358 - val_loss: 0.1581\n",
            "Epoch 20/100\n",
            "76/76 [==============================] - 0s 5ms/step - loss: 0.1357 - val_loss: 0.1570\n",
            "Epoch 21/100\n",
            "76/76 [==============================] - 0s 4ms/step - loss: 0.1357 - val_loss: 0.1571\n",
            "Epoch 22/100\n",
            "76/76 [==============================] - 0s 4ms/step - loss: 0.1357 - val_loss: 0.1577\n",
            "Epoch 23/100\n",
            "76/76 [==============================] - 0s 4ms/step - loss: 0.1357 - val_loss: 0.1565\n",
            "Epoch 24/100\n",
            "76/76 [==============================] - 0s 4ms/step - loss: 0.1358 - val_loss: 0.1575\n",
            "Epoch 25/100\n",
            "76/76 [==============================] - 0s 4ms/step - loss: 0.1357 - val_loss: 0.1571\n",
            "Epoch 26/100\n",
            "76/76 [==============================] - 0s 4ms/step - loss: 0.1357 - val_loss: 0.1565\n",
            "Epoch 27/100\n",
            "76/76 [==============================] - 0s 4ms/step - loss: 0.1357 - val_loss: 0.1573\n",
            "Epoch 28/100\n",
            "76/76 [==============================] - 0s 4ms/step - loss: 0.1356 - val_loss: 0.1566\n",
            "Epoch 29/100\n",
            "76/76 [==============================] - 0s 4ms/step - loss: 0.1356 - val_loss: 0.1576\n",
            "Epoch 30/100\n",
            "76/76 [==============================] - 0s 4ms/step - loss: 0.1356 - val_loss: 0.1568\n",
            "Epoch 31/100\n",
            "76/76 [==============================] - 0s 4ms/step - loss: 0.1357 - val_loss: 0.1573\n",
            "Epoch 32/100\n",
            "76/76 [==============================] - 0s 4ms/step - loss: 0.1356 - val_loss: 0.1565\n",
            "Epoch 33/100\n",
            "76/76 [==============================] - 0s 4ms/step - loss: 0.1355 - val_loss: 0.1561\n",
            "Epoch 34/100\n",
            "76/76 [==============================] - 0s 4ms/step - loss: 0.1356 - val_loss: 0.1567\n",
            "Epoch 35/100\n",
            "76/76 [==============================] - 0s 4ms/step - loss: 0.1355 - val_loss: 0.1563\n",
            "Epoch 36/100\n",
            "76/76 [==============================] - 0s 4ms/step - loss: 0.1354 - val_loss: 0.1569\n",
            "Epoch 37/100\n",
            "76/76 [==============================] - 0s 4ms/step - loss: 0.1355 - val_loss: 0.1562\n",
            "Epoch 38/100\n",
            "76/76 [==============================] - 0s 4ms/step - loss: 0.1355 - val_loss: 0.1573\n",
            "Epoch 39/100\n",
            "76/76 [==============================] - 0s 4ms/step - loss: 0.1354 - val_loss: 0.1572\n",
            "Epoch 40/100\n",
            "76/76 [==============================] - 0s 4ms/step - loss: 0.1354 - val_loss: 0.1567\n",
            "Epoch 41/100\n",
            "76/76 [==============================] - 0s 4ms/step - loss: 0.1354 - val_loss: 0.1576\n",
            "Epoch 42/100\n",
            "76/76 [==============================] - 0s 4ms/step - loss: 0.1354 - val_loss: 0.1570\n",
            "Epoch 43/100\n",
            "76/76 [==============================] - 0s 4ms/step - loss: 0.1353 - val_loss: 0.1572\n",
            "Epoch 44/100\n",
            "76/76 [==============================] - 0s 4ms/step - loss: 0.1353 - val_loss: 0.1561\n",
            "Epoch 45/100\n",
            "76/76 [==============================] - 0s 4ms/step - loss: 0.1352 - val_loss: 0.1564\n",
            "Epoch 46/100\n",
            "76/76 [==============================] - 0s 4ms/step - loss: 0.1353 - val_loss: 0.1568\n",
            "Epoch 47/100\n",
            "76/76 [==============================] - 0s 4ms/step - loss: 0.1352 - val_loss: 0.1564\n",
            "Epoch 48/100\n",
            "76/76 [==============================] - 0s 4ms/step - loss: 0.1350 - val_loss: 0.1557\n",
            "Epoch 49/100\n",
            "76/76 [==============================] - 0s 5ms/step - loss: 0.1349 - val_loss: 0.1548\n",
            "Epoch 50/100\n",
            "76/76 [==============================] - 0s 4ms/step - loss: 0.1348 - val_loss: 0.1565\n",
            "Epoch 51/100\n",
            "76/76 [==============================] - 0s 5ms/step - loss: 0.1347 - val_loss: 0.1562\n",
            "Epoch 52/100\n",
            "76/76 [==============================] - 0s 4ms/step - loss: 0.1343 - val_loss: 0.1540\n",
            "Epoch 53/100\n",
            "76/76 [==============================] - 0s 4ms/step - loss: 0.1339 - val_loss: 0.1519\n",
            "Epoch 54/100\n",
            "76/76 [==============================] - 0s 4ms/step - loss: 0.1336 - val_loss: 0.1527\n",
            "Epoch 55/100\n",
            "76/76 [==============================] - 0s 4ms/step - loss: 0.1331 - val_loss: 0.1515\n",
            "Epoch 56/100\n",
            "76/76 [==============================] - 0s 4ms/step - loss: 0.1325 - val_loss: 0.1493\n",
            "Epoch 57/100\n",
            "76/76 [==============================] - 0s 4ms/step - loss: 0.1320 - val_loss: 0.1502\n",
            "Epoch 58/100\n",
            "76/76 [==============================] - 0s 4ms/step - loss: 0.1315 - val_loss: 0.1488\n",
            "Epoch 59/100\n",
            "76/76 [==============================] - 0s 4ms/step - loss: 0.1311 - val_loss: 0.1490\n",
            "Epoch 60/100\n",
            "76/76 [==============================] - 0s 4ms/step - loss: 0.1304 - val_loss: 0.1475\n",
            "Epoch 61/100\n",
            "76/76 [==============================] - 0s 4ms/step - loss: 0.1300 - val_loss: 0.1486\n",
            "Epoch 62/100\n",
            "76/76 [==============================] - 0s 4ms/step - loss: 0.1294 - val_loss: 0.1501\n",
            "Epoch 63/100\n",
            "76/76 [==============================] - 0s 4ms/step - loss: 0.1289 - val_loss: 0.1519\n",
            "Epoch 64/100\n",
            "76/76 [==============================] - 0s 4ms/step - loss: 0.1282 - val_loss: 0.1526\n",
            "Epoch 65/100\n",
            "76/76 [==============================] - 0s 4ms/step - loss: 0.1277 - val_loss: 0.1548\n",
            "Epoch 66/100\n",
            "76/76 [==============================] - 0s 4ms/step - loss: 0.1271 - val_loss: 0.1564\n",
            "Epoch 67/100\n",
            "76/76 [==============================] - 0s 4ms/step - loss: 0.1265 - val_loss: 0.1591\n",
            "Epoch 68/100\n",
            "76/76 [==============================] - 0s 4ms/step - loss: 0.1256 - val_loss: 0.1590\n",
            "Epoch 69/100\n",
            "76/76 [==============================] - 0s 4ms/step - loss: 0.1250 - val_loss: 0.1567\n",
            "Epoch 70/100\n",
            "76/76 [==============================] - 0s 4ms/step - loss: 0.1241 - val_loss: 0.1566\n",
            "Epoch 71/100\n",
            "76/76 [==============================] - 0s 4ms/step - loss: 0.1235 - val_loss: 0.1575\n",
            "Epoch 72/100\n",
            "76/76 [==============================] - 0s 5ms/step - loss: 0.1230 - val_loss: 0.1558\n",
            "Epoch 73/100\n",
            "76/76 [==============================] - 0s 4ms/step - loss: 0.1225 - val_loss: 0.1557\n",
            "Epoch 74/100\n",
            "76/76 [==============================] - 0s 4ms/step - loss: 0.1221 - val_loss: 0.1556\n",
            "Epoch 75/100\n",
            "76/76 [==============================] - 0s 5ms/step - loss: 0.1217 - val_loss: 0.1547\n",
            "Epoch 76/100\n",
            "76/76 [==============================] - 0s 4ms/step - loss: 0.1215 - val_loss: 0.1519\n",
            "Epoch 77/100\n",
            "76/76 [==============================] - 0s 4ms/step - loss: 0.1212 - val_loss: 0.1525\n",
            "Epoch 78/100\n",
            "76/76 [==============================] - 0s 4ms/step - loss: 0.1209 - val_loss: 0.1508\n",
            "Epoch 79/100\n",
            "76/76 [==============================] - 0s 5ms/step - loss: 0.1206 - val_loss: 0.1477\n",
            "Epoch 80/100\n",
            "76/76 [==============================] - 0s 4ms/step - loss: 0.1202 - val_loss: 0.1469\n",
            "Epoch 81/100\n",
            "76/76 [==============================] - 0s 5ms/step - loss: 0.1199 - val_loss: 0.1479\n",
            "Epoch 82/100\n",
            "76/76 [==============================] - 0s 4ms/step - loss: 0.1197 - val_loss: 0.1476\n",
            "Epoch 83/100\n",
            "76/76 [==============================] - 0s 5ms/step - loss: 0.1194 - val_loss: 0.1428\n",
            "Epoch 84/100\n",
            "76/76 [==============================] - 0s 4ms/step - loss: 0.1190 - val_loss: 0.1445\n",
            "Epoch 85/100\n",
            "76/76 [==============================] - 0s 4ms/step - loss: 0.1186 - val_loss: 0.1418\n",
            "Epoch 86/100\n",
            "76/76 [==============================] - 0s 5ms/step - loss: 0.1182 - val_loss: 0.1421\n",
            "Epoch 87/100\n",
            "76/76 [==============================] - 0s 5ms/step - loss: 0.1179 - val_loss: 0.1387\n",
            "Epoch 88/100\n",
            "76/76 [==============================] - 0s 4ms/step - loss: 0.1176 - val_loss: 0.1380\n",
            "Epoch 89/100\n",
            "76/76 [==============================] - 0s 4ms/step - loss: 0.1172 - val_loss: 0.1364\n",
            "Epoch 90/100\n",
            "76/76 [==============================] - 0s 5ms/step - loss: 0.1170 - val_loss: 0.1367\n",
            "Epoch 91/100\n",
            "76/76 [==============================] - 0s 4ms/step - loss: 0.1167 - val_loss: 0.1371\n",
            "Epoch 92/100\n",
            "76/76 [==============================] - 0s 4ms/step - loss: 0.1164 - val_loss: 0.1357\n",
            "Epoch 93/100\n",
            "76/76 [==============================] - 0s 4ms/step - loss: 0.1164 - val_loss: 0.1349\n",
            "Epoch 94/100\n",
            "76/76 [==============================] - 0s 4ms/step - loss: 0.1160 - val_loss: 0.1359\n",
            "Epoch 95/100\n",
            "76/76 [==============================] - 0s 4ms/step - loss: 0.1160 - val_loss: 0.1334\n",
            "Epoch 96/100\n",
            "76/76 [==============================] - 0s 4ms/step - loss: 0.1159 - val_loss: 0.1350\n",
            "Epoch 97/100\n",
            "76/76 [==============================] - 0s 4ms/step - loss: 0.1157 - val_loss: 0.1334\n",
            "Epoch 98/100\n",
            "76/76 [==============================] - 0s 4ms/step - loss: 0.1156 - val_loss: 0.1336\n",
            "Epoch 99/100\n",
            "76/76 [==============================] - 0s 4ms/step - loss: 0.1154 - val_loss: 0.1341\n",
            "Epoch 100/100\n",
            "76/76 [==============================] - 0s 4ms/step - loss: 0.1153 - val_loss: 0.1341\n"
          ]
        }
      ]
    },
    {
      "cell_type": "code",
      "source": [
        "# plot the training losses\n",
        "fig, ax = plt.subplots(figsize=(14, 6), dpi=80)\n",
        "ax.plot(history['loss'], 'b', label='Train', linewidth=2)\n",
        "ax.plot(history['val_loss'], 'r', label='Validation', linewidth=2)\n",
        "ax.set_title('Model loss', fontsize=16)\n",
        "ax.set_ylabel('Loss (mae)')\n",
        "ax.set_xlabel('Epoch')\n",
        "ax.legend(loc='upper right')\n",
        "plt.show()"
      ],
      "metadata": {
        "colab": {
          "base_uri": "https://localhost:8080/",
          "height": 457
        },
        "id": "vdDwYFivemJV",
        "outputId": "974507dd-df92-4c6f-de4c-15b280d77274"
      },
      "execution_count": 15,
      "outputs": [
        {
          "output_type": "display_data",
          "data": {
            "text/plain": [
              "<Figure size 1120x480 with 1 Axes>"
            ],
            "image/png": "[encoded data removed]"
          },
          "metadata": {
            "needs_background": "light"
          }
        }
      ]
    },
    {
      "cell_type": "code",
      "source": [
        "# plot the loss distribution of the training set\n",
        "X_pred = model.predict(X_train)\n",
        "X_pred = X_pred.reshape(X_pred.shape[0], X_pred.shape[2])\n",
        "X_pred = pd.DataFrame(X_pred, columns=train.columns)\n",
        "X_pred.index = train.index\n",
        "\n",
        "scored = pd.DataFrame(index=train.index)\n",
        "Xtrain = X_train.reshape(X_train.shape[0], X_train.shape[2])\n",
        "scored['Loss_mae'] = np.mean(np.abs(X_pred-Xtrain), axis = 1)\n",
        "plt.figure(figsize=(16,9), dpi=80)\n",
        "plt.title('Loss Distribution', fontsize=16)\n",
        "sns.distplot(scored['Loss_mae'], bins = 20, kde= True, color = 'blue');\n",
        "plt.xlim([0.0,.5])"
      ],
      "metadata": {
        "colab": {
          "base_uri": "https://localhost:8080/",
          "height": 713
        },
        "id": "9pgP_9LJesLZ",
        "outputId": "e3677bbf-51ab-4315-fc28-a4c74854afde"
      },
      "execution_count": 16,
      "outputs": [
        {
          "output_type": "stream",
          "name": "stderr",
          "text": [
            "/usr/local/lib/python3.7/dist-packages/seaborn/distributions.py:2619: FutureWarning: `distplot` is a deprecated function and will be removed in a future version. Please adapt your code to use either `displot` (a figure-level function with similar flexibility) or `histplot` (an axes-level function for histograms).\n",
            "  warnings.warn(msg, FutureWarning)\n"
          ]
        },
        {
          "output_type": "execute_result",
          "data": {
            "text/plain": [
              "(0.0, 0.5)"
            ]
          },
          "metadata": {},
          "execution_count": 16
        },
        {
          "output_type": "display_data",
          "data": {
            "text/plain": [
              "<Figure size 1280x720 with 1 Axes>"
            ],
            "image/png": "[encoded data removed]"
          },
          "metadata": {
            "needs_background": "light"
          }
        }
      ]
    },
    {
      "cell_type": "code",
      "source": [
        "# calculate the loss on the test set\n",
        "X_pred = model.predict(X_test)\n",
        "X_pred = X_pred.reshape(X_pred.shape[0], X_pred.shape[2])\n",
        "X_pred = pd.DataFrame(X_pred, columns=test.columns)\n",
        "X_pred.index = test.index\n",
        "\n",
        "scored = pd.DataFrame(index=test.index)\n",
        "Xtest = X_test.reshape(X_test.shape[0], X_test.shape[2])\n",
        "scored['Loss_mae'] = np.mean(np.abs(X_pred-Xtest), axis = 1)\n",
        "scored['Threshold'] = 0.2 # threshold 의 맥스값은 describe으로 찾아보니 0.19정도 인데 이거 코드 수정하면 될듯. 일단은 0.2로 해놈. \n",
        "scored['Anomaly'] = scored['Loss_mae'] > scored['Threshold']\n",
        "scored.head()\n",
        "# 출력이 모두 false인 것을 보니 학습이 매우 잘되었음. 추가적으로 인코딩 할때 뉴런개수 조정하면 될듯. "
      ],
      "metadata": {
        "colab": {
          "base_uri": "https://localhost:8080/",
          "height": 206
        },
        "id": "pw4CoLTnezn0",
        "outputId": "0fdc2035-6b29-4015-a004-ef1bc3945082"
      },
      "execution_count": 32,
      "outputs": [
        {
          "output_type": "execute_result",
          "data": {
            "text/plain": [
              "     Loss_mae  Threshold  Anomaly\n",
              "800  0.132864        0.2    False\n",
              "801  0.162182        0.2    False\n",
              "802  0.123209        0.2    False\n",
              "803  0.144339        0.2    False\n",
              "804  0.135594        0.2    False"
            ],
            "text/html": [
              "\n",
              "  <div id=\"df-a9050887-ef93-4ec6-9f79-bdfb5775a0fa\">\n",
              "    <div class=\"colab-df-container\">\n",
              "      <div>\n",
              "<style scoped>\n",
              "    .dataframe tbody tr th:only-of-type {\n",
              "        vertical-align: middle;\n",
              "    }\n",
              "\n",
              "    .dataframe tbody tr th {\n",
              "        vertical-align: top;\n",
              "    }\n",
              "\n",
              "    .dataframe thead th {\n",
              "        text-align: right;\n",
              "    }\n",
              "</style>\n",
              "<table border=\"1\" class=\"dataframe\">\n",
              "  <thead>\n",
              "    <tr style=\"text-align: right;\">\n",
              "      <th></th>\n",
              "      <th>Loss_mae</th>\n",
              "      <th>Threshold</th>\n",
              "      <th>Anomaly</th>\n",
              "    </tr>\n",
              "  </thead>\n",
              "  <tbody>\n",
              "    <tr>\n",
              "      <th>800</th>\n",
              "      <td>0.132864</td>\n",
              "      <td>0.2</td>\n",
              "      <td>False</td>\n",
              "    </tr>\n",
              "    <tr>\n",
              "      <th>801</th>\n",
              "      <td>0.162182</td>\n",
              "      <td>0.2</td>\n",
              "      <td>False</td>\n",
              "    </tr>\n",
              "    <tr>\n",
              "      <th>802</th>\n",
              "      <td>0.123209</td>\n",
              "      <td>0.2</td>\n",
              "      <td>False</td>\n",
              "    </tr>\n",
              "    <tr>\n",
              "      <th>803</th>\n",
              "      <td>0.144339</td>\n",
              "      <td>0.2</td>\n",
              "      <td>False</td>\n",
              "    </tr>\n",
              "    <tr>\n",
              "      <th>804</th>\n",
              "      <td>0.135594</td>\n",
              "      <td>0.2</td>\n",
              "      <td>False</td>\n",
              "    </tr>\n",
              "  </tbody>\n",
              "</table>\n",
              "</div>\n",
              "      <button class=\"colab-df-convert\" onclick=\"convertToInteractive('df-a9050887-ef93-4ec6-9f79-bdfb5775a0fa')\"\n",
              "              title=\"Convert this dataframe to an interactive table.\"\n",
              "              style=\"display:none;\">\n",
              "        \n",
              "  <svg xmlns=\"http://www.w3.org/2000/svg\" height=\"24px\"viewBox=\"0 0 24 24\"\n",
              "       width=\"24px\">\n",
              "    <path d=\"M0 0h24v24H0V0z\" fill=\"none\"/>\n",
              "    <path d=\"M18.56 5.44l.94 2.06.94-2.06 2.06-.94-2.06-.94-.94-2.06-.94 2.06-2.06.94zm-11 1L8.5 8.5l.94-2.06 2.06-.94-2.06-.94L8.5 2.5l-.94 2.06-2.06.94zm10 10l.94 2.06.94-2.06 2.06-.94-2.06-.94-.94-2.06-.94 2.06-2.06.94z\"/><path d=\"M17.41 7.96l-1.37-1.37c-.4-.4-.92-.59-1.43-.59-.52 0-1.04.2-1.43.59L10.3 9.45l-7.72 7.72c-.78.78-.78 2.05 0 2.83L4 21.41c.39.39.9.59 1.41.59.51 0 1.02-.2 1.41-.59l7.78-7.78 2.81-2.81c.8-.78.8-2.07 0-2.86zM5.41 20L4 18.59l7.72-7.72 1.47 1.35L5.41 20z\"/>\n",
              "  </svg>\n",
              "      </button>\n",
              "      \n",
              "  <style>\n",
              "    .colab-df-container {\n",
              "      display:flex;\n",
              "      flex-wrap:wrap;\n",
              "      gap: 12px;\n",
              "    }\n",
              "\n",
              "    .colab-df-convert {\n",
              "      background-color: #E8F0FE;\n",
              "      border: none;\n",
              "      border-radius: 50%;\n",
              "      cursor: pointer;\n",
              "      display: none;\n",
              "      fill: #1967D2;\n",
              "      height: 32px;\n",
              "      padding: 0 0 0 0;\n",
              "      width: 32px;\n",
              "    }\n",
              "\n",
              "    .colab-df-convert:hover {\n",
              "      background-color: #E2EBFA;\n",
              "      box-shadow: 0px 1px 2px rgba(60, 64, 67, 0.3), 0px 1px 3px 1px rgba(60, 64, 67, 0.15);\n",
              "      fill: #174EA6;\n",
              "    }\n",
              "\n",
              "    [theme=dark] .colab-df-convert {\n",
              "      background-color: #3B4455;\n",
              "      fill: #D2E3FC;\n",
              "    }\n",
              "\n",
              "    [theme=dark] .colab-df-convert:hover {\n",
              "      background-color: #434B5C;\n",
              "      box-shadow: 0px 1px 3px 1px rgba(0, 0, 0, 0.15);\n",
              "      filter: drop-shadow(0px 1px 2px rgba(0, 0, 0, 0.3));\n",
              "      fill: #FFFFFF;\n",
              "    }\n",
              "  </style>\n",
              "\n",
              "      <script>\n",
              "        const buttonEl =\n",
              "          document.querySelector('#df-a9050887-ef93-4ec6-9f79-bdfb5775a0fa button.colab-df-convert');\n",
              "        buttonEl.style.display =\n",
              "          google.colab.kernel.accessAllowed ? 'block' : 'none';\n",
              "\n",
              "        async function convertToInteractive(key) {\n",
              "          const element = document.querySelector('#df-a9050887-ef93-4ec6-9f79-bdfb5775a0fa');\n",
              "          const dataTable =\n",
              "            await google.colab.kernel.invokeFunction('convertToInteractive',\n",
              "                                                     [key], {});\n",
              "          if (!dataTable) return;\n",
              "\n",
              "          const docLinkHtml = 'Like what you see? Visit the ' +\n",
              "            '<a target=\"_blank\" href=https://colab.research.google.com/notebooks/data_table.ipynb>data table notebook</a>'\n",
              "            + ' to learn more about interactive tables.';\n",
              "          element.innerHTML = '';\n",
              "          dataTable['output_type'] = 'display_data';\n",
              "          await google.colab.output.renderOutput(dataTable, element);\n",
              "          const docLink = document.createElement('div');\n",
              "          docLink.innerHTML = docLinkHtml;\n",
              "          element.appendChild(docLink);\n",
              "        }\n",
              "      </script>\n",
              "    </div>\n",
              "  </div>\n",
              "  "
            ]
          },
          "metadata": {},
          "execution_count": 32
        }
      ]
    },
    {
      "cell_type": "code",
      "source": [
        "# calculate the same metrics for the training set \n",
        "# and merge all data in a single dataframe for plotting\n",
        "X_pred_train = model.predict(X_train)\n",
        "X_pred_train = X_pred_train.reshape(X_pred_train.shape[0], X_pred_train.shape[2])\n",
        "X_pred_train = pd.DataFrame(X_pred_train, columns=train.columns)\n",
        "X_pred_train.index = train.index\n",
        "\n",
        "scored_train = pd.DataFrame(index=train.index)\n",
        "scored_train['Loss_mae'] = np.mean(np.abs(X_pred_train-Xtrain), axis = 1)\n",
        "scored_train['Threshold'] = 0.275\n",
        "scored_train['Anomaly'] = scored_train['Loss_mae'] > scored_train['Threshold']\n",
        "scored = pd.concat([scored_train, scored])"
      ],
      "metadata": {
        "id": "xIP59LragZ8m"
      },
      "execution_count": 33,
      "outputs": []
    },
    {
      "cell_type": "code",
      "source": [
        "# plot bearing failure time plot\n",
        "scored.plot(logy=True,  figsize=(16,9), ylim=[1e-2,1e2], color=['blue','red'])"
      ],
      "metadata": {
        "colab": {
          "base_uri": "https://localhost:8080/",
          "height": 564
        },
        "id": "ccDWJIphgv8r",
        "outputId": "5aaa12b3-45b3-47d6-eb12-90b41033b363"
      },
      "execution_count": 34,
      "outputs": [
        {
          "output_type": "execute_result",
          "data": {
            "text/plain": [
              "<matplotlib.axes._subplots.AxesSubplot at 0x7f47e34c8fd0>"
            ]
          },
          "metadata": {},
          "execution_count": 34
        },
        {
          "output_type": "display_data",
          "data": {
            "text/plain": [
              "<Figure size 1152x648 with 1 Axes>"
            ],
            "image/png": "[encoded data removed]"
          },
          "metadata": {
            "needs_background": "light"
          }
        }
      ]
    },
    {
      "cell_type": "code",
      "source": [
        "# save all model information, including weights, in h5 format\n",
        "model.save(\"bearing-sensor-anomaly-detection.h5\")\n",
        "print(\"Model saved\")"
      ],
      "metadata": {
        "colab": {
          "base_uri": "https://localhost:8080/"
        },
        "id": "X5C2VllHgyhV",
        "outputId": "839e3688-1187-43b7-bc37-7f6e8aed419d"
      },
      "execution_count": 35,
      "outputs": [
        {
          "output_type": "stream",
          "name": "stdout",
          "text": [
            "Model saved\n"
          ]
        }
      ]
    }
  ]
}