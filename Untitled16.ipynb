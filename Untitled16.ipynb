{
  "nbformat": 4,
  "nbformat_minor": 0,
  "metadata": {
    "colab": {
      "name": "Untitled16.ipynb",
      "provenance": [],
      "collapsed_sections": [],
      "include_colab_link": true
    },
    "kernelspec": {
      "name": "python3",
      "display_name": "Python 3"
    },
    "language_info": {
      "name": "python"
    }
  },
  "cells": [
    {
      "cell_type": "markdown",
      "metadata": {
        "id": "view-in-github",
        "colab_type": "text"
      },
      "source": [
        "<a href=\"https://colab.research.google.com/github/neisyo-korea/chobo-s-tear/blob/main/Untitled16.ipynb\" target=\"_parent\"><img src=\"https://colab.research.google.com/assets/colab-badge.svg\" alt=\"Open In Colab\"/></a>"
      ]
    },
    {
      "cell_type": "code",
      "execution_count": null,
      "metadata": {
        "id": "T2BqMHvAgcrz"
      },
      "outputs": [],
      "source": [
        "import pandas as pd\n",
        "import pandas_profiling\n",
        "import numpy as np\n",
        "import matplotlib.pyplot as plt\n",
        "import seaborn as sns\n",
        "%matplotlib inline\n",
        "sns.set_style('whitegrid')\n",
        "from sklearn.model_selection import train_test_split"
      ]
    },
    {
      "cell_type": "code",
      "source": [
        "df=pd.read_excel('/content/Problem3.xlsx',index_col=0)\n",
        "new_header = df.iloc[0]\n",
        "df = df[1:]\n",
        "df.columns = new_header\n",
        "df_train = df[0:100]\n",
        "print(df.columns)\n",
        "df_test= df[100:200]"
      ],
      "metadata": {
        "id": "znFjGeiNgnm2",
        "colab": {
          "base_uri": "https://localhost:8080/"
        },
        "outputId": "1d4abb19-108c-402d-984a-12d9673b5f25"
      },
      "execution_count": null,
      "outputs": [
        {
          "output_type": "stream",
          "name": "stdout",
          "text": [
            "Index(['y1', 'y2', 'x1', 'x2', 'x3', 'x4', 'x5', 'x6', 'x7', 'x10', 'x11',\n",
            "       'x13', 'x14', 'x15', 'x16', 'x17', 'x18', 'x19', 'x20', 'x21', 'x22',\n",
            "       'x23', 'x24', 'x25', 'x26', 'x27', 'x28', 'x29', 'x31', 'x33', 'x34',\n",
            "       'x35', 'x53', 'x56', 'x57', 'x58', 'x62', 'x63', 'x64'],\n",
            "      dtype='object', name='Time (min)')\n"
          ]
        }
      ]
    },
    {
      "cell_type": "code",
      "source": [
        "df_train = df_train.astype(float)# str to float 문자열 숫자열로 변경\n",
        "df_train"
      ],
      "metadata": {
        "id": "p9ruBFLDn6D9"
      },
      "execution_count": null,
      "outputs": []
    },
    {
      "cell_type": "code",
      "source": [
        "corr_df = df_train.corr()\n",
        "corr_df = corr_df.apply(lambda x: round(x ,2))\n",
        "corr_df"
      ],
      "metadata": {
        "id": "vzcRhB5YnvJd"
      },
      "execution_count": null,
      "outputs": []
    },
    {
      "cell_type": "code",
      "source": [
        "plt.figure(figsize=(60,60))\n",
        "sns.pairplot(data=df_train, y_vars=['y1','y2'],\n",
        "             x_vars=['x1', 'x2', 'x3', 'x4', 'x5', 'x6', 'x7', 'x10', 'x11',\n",
        "       'x13', 'x14', 'x15', 'x16', 'x17', 'x18', 'x19', 'x20', 'x21', 'x22',\n",
        "       'x23', 'x24', 'x25', 'x26', 'x27', 'x28', 'x29', 'x31', 'x33', 'x34',\n",
        "       'x35', 'x53', 'x56', 'x57', 'x58', 'x62', 'x63', 'x64'])\n",
        "plt.show()"
      ],
      "metadata": {
        "id": "hw1c6lp0b8Ll"
      },
      "execution_count": null,
      "outputs": []
    },
    {
      "cell_type": "code",
      "source": [
        "df_train.isnull().sum()"
      ],
      "metadata": {
        "id": "dJq91j4QqbKG"
      },
      "execution_count": null,
      "outputs": []
    },
    {
      "cell_type": "code",
      "source": [
        "df_test.isnull().sum()"
      ],
      "metadata": {
        "id": "5LR2RyvP-7lU"
      },
      "execution_count": null,
      "outputs": []
    },
    {
      "cell_type": "code",
      "source": [
        "#데이터 분리 - 독립변수, 종속변수\n",
        "X = df_train.drop([df.columns[0], df.columns[1]], axis=1)\n",
        "Y= df_train[[df.columns[0], df.columns[1]]]\n",
        "X_t = df_test.drop([df.columns[0], df.columns[1]], axis=1)\n",
        "Y_t = df_test[[df.columns[0], df.columns[1]]]"
      ],
      "metadata": {
        "id": "-TXlMyCriMNz"
      },
      "execution_count": null,
      "outputs": []
    },
    {
      "cell_type": "code",
      "source": [
        "#train validation set 분리\n",
        "X_train, X_val, y_train, y_val = train_test_split(X, Y, test_size = 0.3, random_state = 123)"
      ],
      "metadata": {
        "id": "dlywitG-iJB9"
      },
      "execution_count": null,
      "outputs": []
    },
    {
      "cell_type": "code",
      "source": [
        "#R2score 정의\n",
        "def evaluate(model, test_features, test_labels):\n",
        "    from sklearn.metrics import r2_score\n",
        "    predictions = model.predict(test_features)\n",
        "    R2 = np.mean(r2_score(test_labels, predictions))\n",
        "    print('R2 score = %.3f' % R2)\n",
        "    return r2_score"
      ],
      "metadata": {
        "id": "D_3aLoHXC7Ze"
      },
      "execution_count": null,
      "outputs": []
    },
    {
      "cell_type": "code",
      "source": [
        "#결정트리 모델 학습\n",
        "from sklearn.tree import DecisionTreeRegressor\n",
        "DT_model = DecisionTreeRegressor(random_state=123)\n",
        "DT_model.fit(X_train, y_train)"
      ],
      "metadata": {
        "id": "HEZvBT6-yQ3c",
        "colab": {
          "base_uri": "https://localhost:8080/"
        },
        "outputId": "28d71b6a-de4f-4290-cc55-4504bcf27b15"
      },
      "execution_count": null,
      "outputs": [
        {
          "output_type": "execute_result",
          "data": {
            "text/plain": [
              "DecisionTreeRegressor(random_state=123)"
            ]
          },
          "metadata": {},
          "execution_count": 28
        }
      ]
    },
    {
      "cell_type": "code",
      "source": [
        "R2_dt= evaluate(DT_model, X_val, y_val)"
      ],
      "metadata": {
        "id": "zqQb-ddZzj5i",
        "colab": {
          "base_uri": "https://localhost:8080/"
        },
        "outputId": "c0da8927-e6f0-487b-af66-a1a4f76469db"
      },
      "execution_count": null,
      "outputs": [
        {
          "output_type": "stream",
          "name": "stdout",
          "text": [
            "R2 score = 0.995\n"
          ]
        }
      ]
    },
    {
      "cell_type": "code",
      "source": [
        "print('훈련세트 정확도: {:.6f}' .format(DT_model.score(X_train, y_train)))\n",
        "print('테스트세트 정확도: {:.6f}' .format(DT_model.score(X_val, y_val)))"
      ],
      "metadata": {
        "id": "L3r4Ws2R5Cqr",
        "colab": {
          "base_uri": "https://localhost:8080/"
        },
        "outputId": "8601e504-a45a-4a8f-c126-89e0663d109e"
      },
      "execution_count": null,
      "outputs": [
        {
          "output_type": "stream",
          "name": "stdout",
          "text": [
            "훈련세트 정확도: 1.000000\n",
            "테스트세트 정확도: 0.995455\n"
          ]
        }
      ]
    },
    {
      "cell_type": "code",
      "source": [
        "#랜덤포레스트 모델 학습\n",
        "from sklearn.ensemble import RandomForestRegressor\n",
        "RF_model = RandomForestRegressor(random_state = 123)\n",
        "RF_model.fit(X_train, y_train)"
      ],
      "metadata": {
        "id": "Fd1nFSGfEl4B",
        "colab": {
          "base_uri": "https://localhost:8080/"
        },
        "outputId": "0c9bb8c8-0b23-4703-d842-1df640ce7af8"
      },
      "execution_count": null,
      "outputs": [
        {
          "output_type": "execute_result",
          "data": {
            "text/plain": [
              "RandomForestRegressor(random_state=123)"
            ]
          },
          "metadata": {},
          "execution_count": 31
        }
      ]
    },
    {
      "cell_type": "code",
      "source": [
        "#r2스코어 확인\n",
        "R2_rf= evaluate(RF_model, X_val, y_val)"
      ],
      "metadata": {
        "id": "c-x_WrcMEo2A",
        "colab": {
          "base_uri": "https://localhost:8080/"
        },
        "outputId": "f203fea8-921e-46fa-fef7-6baf65ca10d0"
      },
      "execution_count": null,
      "outputs": [
        {
          "output_type": "stream",
          "name": "stdout",
          "text": [
            "R2 score = 0.999\n"
          ]
        }
      ]
    },
    {
      "cell_type": "code",
      "source": [
        "print('훈련세트 정확도: {:.6f}' .format(RF_model.score(X_train, y_train)))\n",
        "print('테스트세트 정확도: {:.6f}' .format(RF_model.score(X_val, y_val)))"
      ],
      "metadata": {
        "id": "qVfDEYR91ei0",
        "colab": {
          "base_uri": "https://localhost:8080/"
        },
        "outputId": "2c807374-72cb-4ff2-d4d7-ca1834a76301"
      },
      "execution_count": null,
      "outputs": [
        {
          "output_type": "stream",
          "name": "stdout",
          "text": [
            "훈련세트 정확도: 0.999840\n",
            "테스트세트 정확도: 0.999172\n"
          ]
        }
      ]
    },
    {
      "cell_type": "code",
      "source": [
        "#엑스트라트리 모델 학습과 예측\n",
        "from sklearn.ensemble import ExtraTreesRegressor\n",
        "ETR_model = ExtraTreesRegressor(random_state=123)\n",
        "ETR_model.fit(X_train, y_train)"
      ],
      "metadata": {
        "id": "rIrJZ6lq0R7b",
        "colab": {
          "base_uri": "https://localhost:8080/"
        },
        "outputId": "06fced67-ab3e-4112-8a62-05fc44bf2ee9"
      },
      "execution_count": null,
      "outputs": [
        {
          "output_type": "execute_result",
          "data": {
            "text/plain": [
              "ExtraTreesRegressor(random_state=123)"
            ]
          },
          "metadata": {},
          "execution_count": 34
        }
      ]
    },
    {
      "cell_type": "code",
      "source": [
        "R2_etr= evaluate(ETR_model, X_val, y_val)"
      ],
      "metadata": {
        "id": "x9TLEt1a0SJD",
        "colab": {
          "base_uri": "https://localhost:8080/"
        },
        "outputId": "eec168dd-554c-431f-984b-79200bf2259d"
      },
      "execution_count": null,
      "outputs": [
        {
          "output_type": "stream",
          "name": "stdout",
          "text": [
            "R2 score = 1.000\n"
          ]
        }
      ]
    },
    {
      "cell_type": "code",
      "source": [
        "print('훈련세트 정확도: {:.6f}' .format(ETR_model.score(X_train, y_train)))\n",
        "print('테스트세트 정확도: {:.6f}' .format(ETR_model.score(X_val, y_val)))"
      ],
      "metadata": {
        "id": "g4vSQTeWsfQb",
        "colab": {
          "base_uri": "https://localhost:8080/"
        },
        "outputId": "8929969a-6329-4933-b5c6-4aa3c43702c8"
      },
      "execution_count": null,
      "outputs": [
        {
          "output_type": "stream",
          "name": "stdout",
          "text": [
            "훈련세트 정확도: 1.000000\n",
            "테스트세트 정확도: 0.999889\n"
          ]
        }
      ]
    },
    {
      "cell_type": "code",
      "source": [
        "y_pred3 = ETR_model.predict(X_t)\n",
        "data_df = pd.DataFrame(y_pred3)\n",
        "data_df.head(100)"
      ],
      "metadata": {
        "id": "W6PW5vxbPlc_"
      },
      "execution_count": null,
      "outputs": []
    },
    {
      "cell_type": "code",
      "source": [
        "#예측데이터를 엑셀의 형태로 변환\n",
        "file = '/content/Problem3_result.xlsx'\n",
        "data_df.to_excel(file)"
      ],
      "metadata": {
        "id": "nLB2o1oHQiuU"
      },
      "execution_count": null,
      "outputs": []
    }
  ]
}